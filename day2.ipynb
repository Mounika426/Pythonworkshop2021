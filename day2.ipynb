{
 "cells": [
  {
   "cell_type": "markdown",
   "id": "8859eae0",
   "metadata": {},
   "source": [
    "### Data Types and Conversions\n",
    "1. int\n",
    "2. float\n",
    "3. string"
   ]
  },
  {
   "cell_type": "code",
   "execution_count": 1,
   "id": "f725a4be",
   "metadata": {},
   "outputs": [
    {
     "data": {
      "text/plain": [
       "int"
      ]
     },
     "execution_count": 1,
     "metadata": {},
     "output_type": "execute_result"
    }
   ],
   "source": [
    "n1 = 13\n",
    "type(n1)"
   ]
  },
  {
   "cell_type": "code",
   "execution_count": 5,
   "id": "a4782ba1",
   "metadata": {},
   "outputs": [
    {
     "data": {
      "text/plain": [
       "float"
      ]
     },
     "execution_count": 5,
     "metadata": {},
     "output_type": "execute_result"
    }
   ],
   "source": [
    "n2 = 13.56\n",
    "type(n2)"
   ]
  },
  {
   "cell_type": "code",
   "execution_count": 11,
   "id": "55c4f168",
   "metadata": {},
   "outputs": [
    {
     "name": "stdout",
     "output_type": "stream",
     "text": [
      "n1 =  13\n"
     ]
    },
    {
     "data": {
      "text/plain": [
       "int"
      ]
     },
     "execution_count": 11,
     "metadata": {},
     "output_type": "execute_result"
    }
   ],
   "source": [
    "n1 = 13\n",
    "print(\"n1 = \",n1)\n",
    "type(n1)"
   ]
  },
  {
   "cell_type": "code",
   "execution_count": 12,
   "id": "0896cf06",
   "metadata": {},
   "outputs": [
    {
     "name": "stdout",
     "output_type": "stream",
     "text": [
      "n2= 13.56\n"
     ]
    },
    {
     "data": {
      "text/plain": [
       "float"
      ]
     },
     "execution_count": 12,
     "metadata": {},
     "output_type": "execute_result"
    }
   ],
   "source": [
    "n2 = 13.56\n",
    "print(\"n2=\",n2)\n",
    "type(n2)"
   ]
  },
  {
   "cell_type": "code",
   "execution_count": 13,
   "id": "8e4fe2d6",
   "metadata": {},
   "outputs": [
    {
     "name": "stdout",
     "output_type": "stream",
     "text": [
      "apssdc\n"
     ]
    },
    {
     "data": {
      "text/plain": [
       "str"
      ]
     },
     "execution_count": 13,
     "metadata": {},
     "output_type": "execute_result"
    }
   ],
   "source": [
    "s = \"apssdc\"\n",
    "print(s)\n",
    "type(s)"
   ]
  },
  {
   "cell_type": "code",
   "execution_count": 14,
   "id": "4e90dada",
   "metadata": {},
   "outputs": [
    {
     "data": {
      "text/plain": [
       "int"
      ]
     },
     "execution_count": 14,
     "metadata": {},
     "output_type": "execute_result"
    }
   ],
   "source": [
    "n = 13\n",
    "m = 4\n",
    "type(n)\n",
    "type(m)"
   ]
  },
  {
   "cell_type": "code",
   "execution_count": 15,
   "id": "380d4e64",
   "metadata": {},
   "outputs": [
    {
     "name": "stdout",
     "output_type": "stream",
     "text": [
      "<class 'int'>\n",
      "<class 'int'>\n"
     ]
    }
   ],
   "source": [
    "n = 30\n",
    "m = 4\n",
    "print(type(n))\n",
    "print(type(m))"
   ]
  },
  {
   "cell_type": "code",
   "execution_count": 17,
   "id": "05c6b86b",
   "metadata": {},
   "outputs": [
    {
     "name": "stdout",
     "output_type": "stream",
     "text": [
      "<class 'int'>\n",
      "<class 'str'>\n"
     ]
    }
   ],
   "source": [
    "n = 13\n",
    "print(type(n))\n",
    "print(type(str(n)))"
   ]
  },
  {
   "cell_type": "code",
   "execution_count": 18,
   "id": "9d5949df",
   "metadata": {},
   "outputs": [
    {
     "name": "stdout",
     "output_type": "stream",
     "text": [
      "<class 'str'>\n"
     ]
    }
   ],
   "source": [
    "n1 = 23\n",
    "s = str(n1)\n",
    "print(type(s))"
   ]
  },
  {
   "cell_type": "code",
   "execution_count": 19,
   "id": "44dffde1",
   "metadata": {},
   "outputs": [
    {
     "name": "stdout",
     "output_type": "stream",
     "text": [
      "1210\n"
     ]
    }
   ],
   "source": [
    "num1 = \"12\"\n",
    "num2 = \"10\"\n",
    "print(num1+num2)"
   ]
  },
  {
   "cell_type": "code",
   "execution_count": 20,
   "id": "2013d197",
   "metadata": {},
   "outputs": [
    {
     "name": "stdout",
     "output_type": "stream",
     "text": [
      "gummaswapna\n"
     ]
    }
   ],
   "source": [
    "s1 = \"gumma\"\n",
    "s2 = \"swapna\"\n",
    "print(s1+s2)"
   ]
  },
  {
   "cell_type": "code",
   "execution_count": 21,
   "id": "b0dc1b79",
   "metadata": {},
   "outputs": [
    {
     "name": "stdout",
     "output_type": "stream",
     "text": [
      "22\n"
     ]
    }
   ],
   "source": [
    "n1 = 12\n",
    "n2 = 10\n",
    "print(n1+n2)"
   ]
  },
  {
   "cell_type": "code",
   "execution_count": 22,
   "id": "5fd9fb79",
   "metadata": {},
   "outputs": [
    {
     "name": "stdout",
     "output_type": "stream",
     "text": [
      "23.0\n"
     ]
    }
   ],
   "source": [
    "n1 = 12.5\n",
    "n2 = 10.5\n",
    "print(n1+n2)"
   ]
  },
  {
   "cell_type": "markdown",
   "id": "9f69392c",
   "metadata": {},
   "source": [
    "### Indentation"
   ]
  },
  {
   "cell_type": "code",
   "execution_count": 28,
   "id": "2ef6bb8a",
   "metadata": {},
   "outputs": [
    {
     "ename": "IndentationError",
     "evalue": "expected an indented block (<ipython-input-28-398a98b3f760>, line 3)",
     "output_type": "error",
     "traceback": [
      "\u001b[1;36m  File \u001b[1;32m\"<ipython-input-28-398a98b3f760>\"\u001b[1;36m, line \u001b[1;32m3\u001b[0m\n\u001b[1;33m    print(\"n1 is greater than n2\")\u001b[0m\n\u001b[1;37m    ^\u001b[0m\n\u001b[1;31mIndentationError\u001b[0m\u001b[1;31m:\u001b[0m expected an indented block\n"
     ]
    }
   ],
   "source": [
    "n1,n2 = 13,12\n",
    "if(n1>n2):\n",
    "print(\"n1 is greater than n2\")"
   ]
  },
  {
   "cell_type": "code",
   "execution_count": 29,
   "id": "c0484767",
   "metadata": {},
   "outputs": [
    {
     "name": "stdout",
     "output_type": "stream",
     "text": [
      "n1 is greater than n2\n"
     ]
    }
   ],
   "source": [
    "n1,n2 = 13,12\n",
    "if(n1>n2):\n",
    "    print(\"n1 is greater than n2\")"
   ]
  },
  {
   "cell_type": "code",
   "execution_count": 33,
   "id": "58e1231b",
   "metadata": {},
   "outputs": [
    {
     "name": "stdout",
     "output_type": "stream",
     "text": [
      "wrong statement\n"
     ]
    }
   ],
   "source": [
    "n1,n2 = 13,12\n",
    "if(n1<n2):\n",
    "    print(\"n1 is less than n2\")\n",
    "else:\n",
    "    print(\"wrong statement\")"
   ]
  },
  {
   "cell_type": "markdown",
   "id": "bcaad6c4",
   "metadata": {},
   "source": [
    "### reading input dynamically"
   ]
  },
  {
   "cell_type": "code",
   "execution_count": 1,
   "id": "85d78ef8",
   "metadata": {},
   "outputs": [
    {
     "name": "stdout",
     "output_type": "stream",
     "text": [
      "123\n",
      "123\n",
      "<class 'str'>\n"
     ]
    }
   ],
   "source": [
    "x = input()\n",
    "print(x)\n",
    "print(type(x))"
   ]
  },
  {
   "cell_type": "code",
   "execution_count": 1,
   "id": "3701b7dd",
   "metadata": {},
   "outputs": [
    {
     "name": "stdout",
     "output_type": "stream",
     "text": [
      "<class 'int'>\n",
      "123\n",
      "123.0\n"
     ]
    }
   ],
   "source": [
    "a = 123\n",
    "print(type(a))\n",
    "f = float(a)\n",
    "print(a)\n",
    "print(f)"
   ]
  },
  {
   "cell_type": "code",
   "execution_count": 1,
   "id": "7811b301",
   "metadata": {},
   "outputs": [
    {
     "name": "stdout",
     "output_type": "stream",
     "text": [
      "123\n",
      "123\n",
      "<class 'int'>\n"
     ]
    }
   ],
   "source": [
    "n = int(input())\n",
    "print(n)\n",
    "print(type(n))"
   ]
  },
  {
   "cell_type": "code",
   "execution_count": 2,
   "id": "2180623d",
   "metadata": {},
   "outputs": [
    {
     "name": "stdout",
     "output_type": "stream",
     "text": [
      "enter a value:15.8\n",
      "15.8\n",
      "<class 'float'>\n"
     ]
    }
   ],
   "source": [
    "f = float(input(\"enter a value:\"))\n",
    "print(f)\n",
    "print(type(f))"
   ]
  },
  {
   "cell_type": "markdown",
   "id": "68909804",
   "metadata": {},
   "source": [
    "### operators\n",
    "1. arithmetic operators\n",
    "2. assignment operators\n",
    "3. comparison operators\n",
    "4. logical operators\n",
    "5. identity operators\n",
    "6. membership operators\n",
    "7. bitwise operators"
   ]
  },
  {
   "cell_type": "markdown",
   "id": "55dc4d91",
   "metadata": {},
   "source": [
    "### 1. arithematic operators\n",
    "- +,-,*,/,%,//,**"
   ]
  },
  {
   "cell_type": "code",
   "execution_count": 8,
   "id": "e9490fa1",
   "metadata": {},
   "outputs": [
    {
     "name": "stdout",
     "output_type": "stream",
     "text": [
      "a+b = 8\n",
      "a-b = 2\n",
      "a*b = 15\n",
      "a/b = 1.6666666666666667\n",
      "a%b = 2\n",
      "a//b = 1\n",
      "a**b = 125\n"
     ]
    }
   ],
   "source": [
    "a,b = 5,3\n",
    "print(\"a+b =\",5+3)\n",
    "print(\"a-b =\",5-3)\n",
    "print(\"a*b =\",5*3)\n",
    "print(\"a/b =\",5/3)\n",
    "print(\"a%b =\",5%3)\n",
    "print(\"a//b =\",5//3)\n",
    "print(\"a**b =\",5**3)"
   ]
  },
  {
   "cell_type": "code",
   "execution_count": 4,
   "id": "78d385fa",
   "metadata": {},
   "outputs": [
    {
     "name": "stdout",
     "output_type": "stream",
     "text": [
      "8\n",
      "2\n",
      "15\n",
      "1.6666666666666667\n",
      "2\n",
      "1\n",
      "125\n"
     ]
    }
   ],
   "source": [
    "a,b = 5,3\n",
    "print(5+3)\n",
    "print(5-3)\n",
    "print(5*3)\n",
    "print(5/3)\n",
    "print(5%3)\n",
    "print(5//3)\n",
    "print(5**3)"
   ]
  },
  {
   "cell_type": "markdown",
   "id": "9fa52ac2",
   "metadata": {},
   "source": [
    "### 2.assignment operator\n",
    " - =,+=,*= etc.,"
   ]
  },
  {
   "cell_type": "code",
   "execution_count": 13,
   "id": "3c712de4",
   "metadata": {},
   "outputs": [
    {
     "name": "stdout",
     "output_type": "stream",
     "text": [
      "12\n"
     ]
    }
   ],
   "source": [
    "a = 12\n",
    "print(a)"
   ]
  },
  {
   "cell_type": "code",
   "execution_count": 14,
   "id": "1af3e0ab",
   "metadata": {},
   "outputs": [
    {
     "name": "stdout",
     "output_type": "stream",
     "text": [
      "13\n"
     ]
    }
   ],
   "source": [
    "a += 1 # a = a+1\n",
    "print(a)"
   ]
  },
  {
   "cell_type": "code",
   "execution_count": 15,
   "id": "d953f6d2",
   "metadata": {},
   "outputs": [
    {
     "data": {
      "text/plain": [
       "13"
      ]
     },
     "execution_count": 15,
     "metadata": {},
     "output_type": "execute_result"
    }
   ],
   "source": [
    "a"
   ]
  },
  {
   "cell_type": "code",
   "execution_count": 16,
   "id": "88fce3ee",
   "metadata": {},
   "outputs": [
    {
     "name": "stdout",
     "output_type": "stream",
     "text": [
      "11\n"
     ]
    }
   ],
   "source": [
    "a -= 2\n",
    "print(a)"
   ]
  },
  {
   "cell_type": "code",
   "execution_count": 18,
   "id": "b19f0fd7",
   "metadata": {},
   "outputs": [
    {
     "name": "stdout",
     "output_type": "stream",
     "text": [
      "22\n"
     ]
    }
   ],
   "source": [
    "a *= 2# a=a*2\n",
    "print(a)"
   ]
  },
  {
   "cell_type": "markdown",
   "id": "94b33603",
   "metadata": {},
   "source": [
    "### 3. comparision operators\n",
    "- ==,>,<,>=,<=,!="
   ]
  },
  {
   "cell_type": "code",
   "execution_count": 25,
   "id": "ff904f65",
   "metadata": {},
   "outputs": [
    {
     "name": "stdout",
     "output_type": "stream",
     "text": [
      "False\n",
      "True\n",
      "False\n",
      "True\n"
     ]
    }
   ],
   "source": [
    "n1,n2 = 5,3\n",
    "print(n1==n2)\n",
    "print(n1 !=n2)\n",
    "print(n1<=n2)\n",
    "print(n1>=n2)"
   ]
  },
  {
   "cell_type": "markdown",
   "id": "b2eea00e",
   "metadata": {},
   "source": [
    "#### 4.logical operators\n",
    "- and,or,not"
   ]
  },
  {
   "cell_type": "code",
   "execution_count": 30,
   "id": "0fa25dff",
   "metadata": {},
   "outputs": [
    {
     "name": "stdout",
     "output_type": "stream",
     "text": [
      "True\n",
      "True\n"
     ]
    }
   ],
   "source": [
    "a=5\n",
    "print(a<6 and a>2)\n",
    "print(a<6 or a>2)"
   ]
  },
  {
   "cell_type": "code",
   "execution_count": 31,
   "id": "a711a62d",
   "metadata": {},
   "outputs": [
    {
     "name": "stdout",
     "output_type": "stream",
     "text": [
      "False\n"
     ]
    }
   ],
   "source": [
    "res = a<6 or a>2\n",
    "print(not(res))"
   ]
  },
  {
   "cell_type": "markdown",
   "id": "d863db0c",
   "metadata": {},
   "source": [
    "#### 5. identity operators\n",
    "- is,is not"
   ]
  },
  {
   "cell_type": "code",
   "execution_count": 32,
   "id": "8d92be79",
   "metadata": {},
   "outputs": [
    {
     "name": "stdout",
     "output_type": "stream",
     "text": [
      "False\n"
     ]
    }
   ],
   "source": [
    "x,y = 5,3\n",
    "print(x is y)"
   ]
  },
  {
   "cell_type": "code",
   "execution_count": 33,
   "id": "486f0577",
   "metadata": {},
   "outputs": [
    {
     "name": "stdout",
     "output_type": "stream",
     "text": [
      "True\n"
     ]
    }
   ],
   "source": [
    "print(x is not y)"
   ]
  },
  {
   "cell_type": "code",
   "execution_count": 35,
   "id": "bbc290f9",
   "metadata": {},
   "outputs": [
    {
     "name": "stdout",
     "output_type": "stream",
     "text": [
      "True\n",
      "False\n"
     ]
    }
   ],
   "source": [
    "a,b = 5,5\n",
    "print(a is b)\n",
    "print(a is not b)"
   ]
  },
  {
   "cell_type": "markdown",
   "id": "4fbcca08",
   "metadata": {},
   "source": [
    "### 6. membership operators\n",
    "- in,not in"
   ]
  },
  {
   "cell_type": "code",
   "execution_count": 36,
   "id": "1a8f7543",
   "metadata": {},
   "outputs": [
    {
     "name": "stdout",
     "output_type": "stream",
     "text": [
      "True\n"
     ]
    }
   ],
   "source": [
    "fruits = [\"apple\",\"gova\",\"grapes\"]\n",
    "print('apple' in fruits)"
   ]
  },
  {
   "cell_type": "code",
   "execution_count": 37,
   "id": "c0cb0a24",
   "metadata": {},
   "outputs": [
    {
     "name": "stdout",
     "output_type": "stream",
     "text": [
      "False\n"
     ]
    }
   ],
   "source": [
    "print('banana' in fruits)"
   ]
  },
  {
   "cell_type": "code",
   "execution_count": 38,
   "id": "eb545f47",
   "metadata": {},
   "outputs": [
    {
     "name": "stdout",
     "output_type": "stream",
     "text": [
      "True\n"
     ]
    }
   ],
   "source": [
    "print('banana' not in fruits)"
   ]
  },
  {
   "cell_type": "markdown",
   "id": "71b31ade",
   "metadata": {},
   "source": [
    "## 7. bitwise operators\n",
    "- &,|,^,>>,<<,~"
   ]
  },
  {
   "cell_type": "code",
   "execution_count": 42,
   "id": "d45b13df",
   "metadata": {},
   "outputs": [
    {
     "name": "stdout",
     "output_type": "stream",
     "text": [
      "enter 1st value:5\n",
      "enter 2nd value:3\n"
     ]
    },
    {
     "data": {
      "text/plain": [
       "1"
      ]
     },
     "execution_count": 42,
     "metadata": {},
     "output_type": "execute_result"
    }
   ],
   "source": [
    "a = int(input(\"enter 1st value:\"))\n",
    "b = int(input(\"enter 2nd value:\"))\n",
    "a & b"
   ]
  },
  {
   "cell_type": "code",
   "execution_count": 43,
   "id": "9f4dba37",
   "metadata": {},
   "outputs": [
    {
     "data": {
      "text/plain": [
       "7"
      ]
     },
     "execution_count": 43,
     "metadata": {},
     "output_type": "execute_result"
    }
   ],
   "source": [
    "a|b"
   ]
  },
  {
   "cell_type": "code",
   "execution_count": 44,
   "id": "409e44df",
   "metadata": {},
   "outputs": [
    {
     "data": {
      "text/plain": [
       "40"
      ]
     },
     "execution_count": 44,
     "metadata": {},
     "output_type": "execute_result"
    }
   ],
   "source": [
    "a << b "
   ]
  },
  {
   "cell_type": "code",
   "execution_count": 45,
   "id": "91e0783d",
   "metadata": {},
   "outputs": [
    {
     "data": {
      "text/plain": [
       "0"
      ]
     },
     "execution_count": 45,
     "metadata": {},
     "output_type": "execute_result"
    }
   ],
   "source": [
    "a >> b"
   ]
  },
  {
   "cell_type": "code",
   "execution_count": null,
   "id": "4b271387",
   "metadata": {},
   "outputs": [],
   "source": [
    "### "
   ]
  }
 ],
 "metadata": {
  "kernelspec": {
   "display_name": "Python 3",
   "language": "python",
   "name": "python3"
  },
  "language_info": {
   "codemirror_mode": {
    "name": "ipython",
    "version": 3
   },
   "file_extension": ".py",
   "mimetype": "text/x-python",
   "name": "python",
   "nbconvert_exporter": "python",
   "pygments_lexer": "ipython3",
   "version": "3.8.8"
  }
 },
 "nbformat": 4,
 "nbformat_minor": 5
}
